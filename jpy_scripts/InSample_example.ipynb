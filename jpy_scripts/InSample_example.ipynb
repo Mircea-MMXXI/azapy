{
 "cells": [
  {
   "cell_type": "markdown",
   "id": "grand-candle",
   "metadata": {},
   "source": [
    "# mCVaR in-sample analysis - an example \n",
    "\n",
    "This is an illustration of *in-sample analysis* workflow. We use a mCVaR (of 3 CVaR's) dispersion measure. \n",
    "A similar analysis can be performed for any other implemented dispersion measure. \n",
    "\n",
    "We start by importing the **azapy** and other useful packages. "
   ]
  },
  {
   "cell_type": "code",
   "execution_count": 7,
   "id": "vertical-timeline",
   "metadata": {},
   "outputs": [],
   "source": [
    "import numpy as np\n",
    "\n",
    "import sys\n",
    "sys.path.append(\"..\")\n",
    "import azapy as az"
   ]
  },
  {
   "cell_type": "markdown",
   "id": "complimentary-raise",
   "metadata": {},
   "source": [
    "### Collect historical market data for a set of portfolio components\n",
    "\n",
    "- `symb` is the list of stock symbols (portfolio components).\n",
    "- `sdate` and `edate` are the start and end dates of historical time-series.\n",
    "- `mktdir` is the name of the directory used as a buffer for market data collected from the data provider *alphavantage*.\n",
    "    \n",
    "> Note: if the flag `force=False` then a reading from `dir=mktdir` is attempted. If it fails, then the data provider servers will be accessed. The new data will be saved to the `mktdir`. *For more information see the `readMkT` documentation*\n",
    "\n",
    "Check if `mktdir` holds a value convenient for your configuration."
   ]
  },
  {
   "cell_type": "code",
   "execution_count": 8,
   "id": "floppy-symbol",
   "metadata": {
    "scrolled": true
   },
   "outputs": [
    {
     "name": "stdout",
     "output_type": "stream",
     "text": [
      "read GLD data from file\n",
      "read TLT data from file\n",
      "read XLV data from file\n",
      "read VGT data from file\n",
      "read PSJ data from file\n",
      "\n",
      "Request between 2012-01-01 : 2021-07-27\n",
      "                    GLD         TLT         XLV         VGT         PSJ\n",
      "source            yahoo       yahoo       yahoo       yahoo       yahoo\n",
      "force             False       False       False       False       False\n",
      "save               True        True        True        True        True\n",
      "file_dir     ../MkTdata  ../MkTdata  ../MkTdata  ../MkTdata  ../MkTdata\n",
      "file_format         csv         csv         csv         csv         csv\n",
      "api_key            None        None        None        None        None\n",
      "verbose            True        True        True        True        True\n",
      "error                No          No          No          No          No\n",
      "nrow               2407        2407        2407        2407        2407\n",
      "sdate        2012-01-03  2012-01-03  2012-01-03  2012-01-03  2012-01-03\n",
      "edate        2021-07-27  2021-07-27  2021-07-27  2021-07-27  2021-07-27\n",
      "extraction time 0.159 s\n"
     ]
    }
   ],
   "source": [
    "symb = ['GLD', 'TLT', 'XLV', 'VGT', 'PSJ']\n",
    "\n",
    "sdate = \"2012-01-01\"\n",
    "edate = \"2021-07-27\"\n",
    "\n",
    "mktdir = \"../MkTdata\"\n",
    "\n",
    "mktdata = az.readMkT(symb, sdate=sdate, edate=edate, file_dir=mktdir)"
   ]
  },
  {
   "cell_type": "markdown",
   "id": "heavy-still",
   "metadata": {},
   "source": [
    "### Set the mixture of CVaR's parameters\n",
    "\n",
    "- `alpha` - is the list of CVaR confidence levels,\n",
    "- `coef` - is the list of mixture coefficients. \n",
    "\n",
    ">Note: `len(coef)=len(alpha)`. All the coefficients must be `>0`."
   ]
  },
  {
   "cell_type": "code",
   "execution_count": 9,
   "id": "warming-utilization",
   "metadata": {},
   "outputs": [],
   "source": [
    "alpha = [0.95, 0.90, 0.85]\n",
    "coef = [0.2, 0.3, 0.5]"
   ]
  },
  {
   "cell_type": "markdown",
   "id": "hundred-mercury",
   "metadata": {},
   "source": [
    "### Set the CVaRAnalyzer class.\n",
    "\n",
    "For a full list of available setting parameters see the documentation."
   ]
  },
  {
   "cell_type": "code",
   "execution_count": 10,
   "id": "deluxe-weekend",
   "metadata": {},
   "outputs": [],
   "source": [
    "cr1 = az.CVaRAnalyzer(alpha, coef, mktdata)"
   ]
  },
  {
   "cell_type": "markdown",
   "id": "bulgarian-lender",
   "metadata": {},
   "source": [
    "### Compute the optimal weights\n",
    "\n",
    "For numerical illustration we set the optimization type to `Sharpe`. This will produce the weight of the optimal portfolio with maximum C-Sharpe ratio.\n",
    "The value of the risk-free rate is set to `0`, the default vale.\n",
    "\n",
    "> Note: `rtype='Sharpe'` is the default setting. Therefore, it does not need to be made explicitly. Other valid values for \n",
    "`rtype` are `'Risk'`, `'Sharpe2'`, `'InvNrisk'`, `'MinRisk'` and `'RiskAverse'` (*see the documentation*)."
   ]
  },
  {
   "cell_type": "code",
   "execution_count": 11,
   "id": "abandoned-river",
   "metadata": {},
   "outputs": [
    {
     "name": "stdout",
     "output_type": "stream",
     "text": [
      "optimal weights:\n",
      " symbol\n",
      "GLD    0.5140\n",
      "PSJ    0.0709\n",
      "TLT    0.0582\n",
      "VGT    0.1684\n",
      "XLV    0.1885\n",
      "dtype: float64\n"
     ]
    }
   ],
   "source": [
    "ww1 = cr1.getWeights(mu=0.)\n",
    "print(f\"optimal weights:\\n {ww1.round(4)}\")"
   ]
  },
  {
   "cell_type": "markdown",
   "id": "published-shield",
   "metadata": {},
   "source": [
    "### Check the computation status\n",
    "\n",
    "> Note: Normal exit is `0`. Any other value will signal a type of numerical error and a warning message will be printed during execution."
   ]
  },
  {
   "cell_type": "code",
   "execution_count": 12,
   "id": "alpine-japan",
   "metadata": {},
   "outputs": [
    {
     "name": "stdout",
     "output_type": "stream",
     "text": [
      "Status: 0\n"
     ]
    }
   ],
   "source": [
    "status = cr1.status\n",
    "print(f\"Status: {status}\")"
   ]
  },
  {
   "cell_type": "markdown",
   "id": "million-memorabilia",
   "metadata": {},
   "source": [
    "### The risk of the optimal portfolio\n",
    "\n",
    "In this case it is the value of mCVaR."
   ]
  },
  {
   "cell_type": "code",
   "execution_count": 13,
   "id": "adequate-playing",
   "metadata": {},
   "outputs": [
    {
     "name": "stdout",
     "output_type": "stream",
     "text": [
      "Risk: 0.0729118551654855\n"
     ]
    }
   ],
   "source": [
    "risk = cr1.risk\n",
    "print(f\"Risk: {risk}\")"
   ]
  },
  {
   "cell_type": "markdown",
   "id": "extended-router",
   "metadata": {},
   "source": [
    "### Primary risk values\n",
    "\n",
    "In this case, the *primary risk* is the list of single CVaR's that enter in the mixture.\n",
    "\n",
    "> Note: If `coef` is normalized to `1`, then `risk = np.dot(coef, primary_risk)`\n",
    "\n",
    ">Note: The meaning of the *primary risk* varies with the risk measure adopted (*see the documentation*)."
   ]
  },
  {
   "cell_type": "code",
   "execution_count": 14,
   "id": "contrary-vacation",
   "metadata": {},
   "outputs": [
    {
     "name": "stdout",
     "output_type": "stream",
     "text": [
      "Primary Risk Components: [0.08452574 0.074498   0.06731462]\n"
     ]
    }
   ],
   "source": [
    "primary_risk = cr1.primary_risk_comp\n",
    "print(f\"Primary Risk Components: {primary_risk}\")"
   ]
  },
  {
   "cell_type": "markdown",
   "id": "micro-shelf",
   "metadata": {},
   "source": [
    "### Secondary risk values\n",
    "\n",
    "In this case, the *secondary risk* is the list of VaR values associated with the CVaR's from *primary risk*.\n",
    "\n",
    "The meaning of the *secondary risk* varies with the risk measure adopted (*see the documentation*)."
   ]
  },
  {
   "cell_type": "code",
   "execution_count": 15,
   "id": "bronze-trout",
   "metadata": {},
   "outputs": [
    {
     "name": "stdout",
     "output_type": "stream",
     "text": [
      "Secondary Risk Components: [0.07126387 0.05783101 0.04930353]\n"
     ]
    }
   ],
   "source": [
    "secondary_risk = cr1.secondary_risk_comp\n",
    "print(f\"Secondary Risk Components: {secondary_risk}\")"
   ]
  },
  {
   "cell_type": "markdown",
   "id": "configured-wallet",
   "metadata": {},
   "source": [
    "### Portfolio expected rate of returns\n",
    "\n",
    "> Note: It is a simple rate, in algebraic form, with horizon given by the rolling period of the portfolio. In this case a quarter."
   ]
  },
  {
   "cell_type": "code",
   "execution_count": 16,
   "id": "thirty-evolution",
   "metadata": {},
   "outputs": [
    {
     "name": "stdout",
     "output_type": "stream",
     "text": [
      "Rate of Returns: 0.04221287251772279\n"
     ]
    }
   ],
   "source": [
    "RR = cr1.RR\n",
    "print(f\"Rate of Returns: {RR}\")"
   ]
  },
  {
   "cell_type": "markdown",
   "id": "handy-offense",
   "metadata": {},
   "source": [
    "### Sharpe ratio value\n",
    "\n",
    ">Note: We call Sharpe ratio the ratio between expected excess return (above risk free-rate) and the value of the dispersion measure (in our case mCVaR). "
   ]
  },
  {
   "cell_type": "code",
   "execution_count": 21,
   "id": "numerous-highlight",
   "metadata": {},
   "outputs": [
    {
     "name": "stdout",
     "output_type": "stream",
     "text": [
      "Sharpe ratio: 0.579\n"
     ]
    },
    {
     "data": {
      "text/plain": [
       "0.5789575977996129"
      ]
     },
     "execution_count": 21,
     "metadata": {},
     "output_type": "execute_result"
    }
   ],
   "source": [
    "sharpe = cr1.sharpe\n",
    "print(f\"Sharpe ratio: {np.round(sharpe, 4)}\")"
   ]
  },
  {
   "cell_type": "markdown",
   "id": "natural-manchester",
   "metadata": {},
   "source": [
    "### View the portfolio frontiers \n",
    "\n",
    "- *blue* curve is the efficient frontier. \n",
    "- *red* curve is the inefficient frontier.\n",
    "- Most left *green diamond* - is the *minimum risk portfolio*.\n",
    "- tangency point *(green diamond)* is the maximum Sharpe portfolio (also called *market* or *tangency* portfolio).\n",
    "- *blue squares* with stock symbol labels are the portfolio where the entire capital in invested in a single asset (the label designates this asset).\n",
    "- *green x* with label \"1/N\" is the equal weighted portfolio (also called *1/N* or *inverse-N* portfolio).\n",
    "- *green x* with label \"InvNrisk\" is the efficient portfolio with the same risk as equal weighted portfolio. In our case same mCVaR.\n",
    "- *blue dots* are random (inefficient) portfolios. They are present here to visualize the area of admissible portfolios.\n",
    "\n",
    "> Note: See the documentation for more details about available plotting options."
   ]
  },
  {
   "cell_type": "code",
   "execution_count": 18,
   "id": "solar-fellowship",
   "metadata": {},
   "outputs": [
    {
     "data": {
      "image/png": "[encoded data removed]",
      "text/plain": [
       "<Figure size 432x288 with 1 Axes>"
      ]
     },
     "metadata": {
      "needs_background": "light"
     },
     "output_type": "display_data"
    }
   ],
   "source": [
    "opt ={'title': \"CVaR Port\", 'tangent': True}\n",
    "\n",
    "rft = cr1.viewFrontiers(musharpe=0, randomport=100, options=opt)"
   ]
  },
  {
   "cell_type": "markdown",
   "id": "visible-train",
   "metadata": {},
   "source": [
    "### View portfolio frontiers in a rate of returns vs. Sharpe ratio representation\n",
    "\n",
    "This representation gives a better understanding of portfolios efficiency in terms of expected excess returns per unit of risk (in our case per unit of mCVaR).\n",
    "\n",
    "> Note: In order to avoid recomputations, that may take time, we had reused the graphical information from the previous call to\n",
    "`viewFrontiers`.\n",
    "\n",
    "The meanings of the graphical features are the same as in the previous fig."
   ]
  },
  {
   "cell_type": "code",
   "execution_count": 19,
   "id": "three-framework",
   "metadata": {},
   "outputs": [
    {
     "data": {
      "image/png": "[encoded data removed]",
      "text/plain": [
       "<Figure size 432x288 with 1 Axes>"
      ]
     },
     "metadata": {
      "needs_background": "light"
     },
     "output_type": "display_data"
    }
   ],
   "source": [
    "_ = cr1.viewFrontiers(data=rft, fig_type='Sharpe_RR')"
   ]
  }
 ],
 "metadata": {
  "kernelspec": {
   "display_name": "Python 3 (ipykernel)",
   "language": "python",
   "name": "python3"
  },
  "language_info": {
   "codemirror_mode": {
    "name": "ipython",
    "version": 3
   },
   "file_extension": ".py",
   "mimetype": "text/x-python",
   "name": "python",
   "nbconvert_exporter": "python",
   "pygments_lexer": "ipython3",
   "version": "3.8.12"
  }
 },
 "nbformat": 4,
 "nbformat_minor": 5
}
