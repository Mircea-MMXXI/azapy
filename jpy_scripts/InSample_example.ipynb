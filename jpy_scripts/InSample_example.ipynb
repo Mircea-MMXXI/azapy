{
 "cells": [
  {
   "cell_type": "markdown",
   "id": "grand-candle",
   "metadata": {},
   "source": [
    "# In-sample analysis - example \n",
    "### Mixture of CVaR's with Sharpe type of optimization\n",
    "\n",
    "This is an illustration of *in-sample analysis* workflow. \n",
    "The example presented here assumes a dispersion measure given by a mixture of CVaR's with Sharpe type of optimization (*i.e.* the portfolio that maximizes the mCVaR-Sharpe ratio).\n",
    "\n",
    "> Note: A similar analysis can be performed for any other implemented risk measure and type of optimization.\n",
    "\n",
    "We start by importing the **azapy** and other useful packages. "
   ]
  },
  {
   "cell_type": "code",
   "execution_count": 1,
   "id": "vertical-timeline",
   "metadata": {},
   "outputs": [],
   "source": [
    "import numpy as np\n",
    "import pandas as pd\n",
    "\n",
    "import sys\n",
    "sys.path.append(\"..\")\n",
    "import azapy as az"
   ]
  },
  {
   "cell_type": "markdown",
   "id": "complimentary-raise",
   "metadata": {},
   "source": [
    "### Collect the historical market data for a set of portfolio components.\n",
    "\n",
    "- `symb` is the list of stock symbols (portfolio components).\n",
    "- `sdate` and `edate` are the start and end dates of historical time-series.\n",
    "- `mkdir` is the name of the directory used as a buffer for market data collected from the data provider *alphavantage*.\n",
    "    \n",
    "> Note: if the flag `force=False` then a reading from `dir=mktdir` is attempted. If it fails then the data provider servers will be accessed. The new data will be saved to the `mktdir`. *For more information see the `readMkT` documentation*"
   ]
  },
  {
   "cell_type": "code",
   "execution_count": 2,
   "id": "floppy-symbol",
   "metadata": {
    "scrolled": true
   },
   "outputs": [
    {
     "name": "stdout",
     "output_type": "stream",
     "text": [
      "Read GLD form ./MkTdata\n",
      "Read TLT form ./MkTdata\n",
      "Read XLV form ./MkTdata\n",
      "Read VGT form ./MkTdata\n",
      "Read PSJ form ./MkTdata\n"
     ]
    }
   ],
   "source": [
    "symb = ['GLD', 'TLT', 'XLV', 'VGT', 'PSJ']\n",
    "\n",
    "sdate = pd.to_datetime(\"2012-01-01\")\n",
    "edate = pd.to_datetime(\"today\")\n",
    "\n",
    "mktdir = \"./MkTdata\"\n",
    "\n",
    "mktdata = az.readMkT(symb, dstart = sdate, dend = edate, dir=mktdir, force=False) "
   ]
  },
  {
   "cell_type": "markdown",
   "id": "heavy-still",
   "metadata": {},
   "source": [
    "### Set the mixture of CVaR's parameters\n",
    "\n",
    "- `alpha` is the list of CVaR confidence levels \n",
    "- `coef` is the list of mixture coefficients. \n",
    "Note: `len(coef)=len(alpha)`. All the coefficients must be `>0`."
   ]
  },
  {
   "cell_type": "code",
   "execution_count": 3,
   "id": "warming-utilization",
   "metadata": {},
   "outputs": [],
   "source": [
    "alpha = [0.95, 0.90, 0.85]\n",
    "coef = [0.2, 0.3, 0.5]"
   ]
  },
  {
   "cell_type": "markdown",
   "id": "hundred-mercury",
   "metadata": {},
   "source": [
    "### Set the CVaRAnalyzer class.\n",
    "\n",
    "For a full list of available setting parameters see the documentation."
   ]
  },
  {
   "cell_type": "code",
   "execution_count": 4,
   "id": "deluxe-weekend",
   "metadata": {},
   "outputs": [],
   "source": [
    "cr1 = az.CVaRAnalyzer(alpha, coef, mktdata)"
   ]
  },
  {
   "cell_type": "markdown",
   "id": "bulgarian-lender",
   "metadata": {},
   "source": [
    "### Compute the optimal weights\n",
    "\n",
    "> Note: `rtype='Sharpe'` is the default setting. Therefore, it dose not need to be made explicitly. Other valid values for \n",
    "`rtype` are `'Risk'`, `'Sharpe2'`, `'InvNrisk'`, `'MinRisk'` are `'RiskAverse'`. *See the documentation of how to setup these optimization strategies.*"
   ]
  },
  {
   "cell_type": "code",
   "execution_count": 5,
   "id": "abandoned-river",
   "metadata": {},
   "outputs": [
    {
     "name": "stdout",
     "output_type": "stream",
     "text": [
      "optimal weights:\n",
      " symbol\n",
      "GLD    0.5042\n",
      "PSJ    0.0545\n",
      "TLT    0.0678\n",
      "VGT    0.1821\n",
      "XLV    0.1914\n",
      "dtype: float64\n"
     ]
    }
   ],
   "source": [
    "ww1 = cr1.getWeights(mu=0.)\n",
    "print(f\"optimal weights:\\n {np.round(ww1,4)}\")"
   ]
  },
  {
   "cell_type": "markdown",
   "id": "published-shield",
   "metadata": {},
   "source": [
    "### Check the computation status\n",
    "\n",
    "> Note: Normal exit is `0`. Any other value will signal a type of numerical error and a warning message will be printed."
   ]
  },
  {
   "cell_type": "code",
   "execution_count": 6,
   "id": "alpine-japan",
   "metadata": {},
   "outputs": [
    {
     "name": "stdout",
     "output_type": "stream",
     "text": [
      "Status: 0\n"
     ]
    }
   ],
   "source": [
    "status = cr1.status\n",
    "print(f\"Status: {status}\")"
   ]
  },
  {
   "cell_type": "markdown",
   "id": "million-memorabilia",
   "metadata": {},
   "source": [
    "### The risk of the optimal portfolio\n",
    "\n",
    "In this case it is the value of the mixtures of CVaR's."
   ]
  },
  {
   "cell_type": "code",
   "execution_count": 7,
   "id": "adequate-playing",
   "metadata": {},
   "outputs": [
    {
     "name": "stdout",
     "output_type": "stream",
     "text": [
      "Risk: 0.07308650588511781\n"
     ]
    }
   ],
   "source": [
    "risk = cr1.risk\n",
    "print(f\"Risk: {risk}\")"
   ]
  },
  {
   "cell_type": "markdown",
   "id": "extended-router",
   "metadata": {},
   "source": [
    "### Primary risk values\n",
    "\n",
    "In this case the *primary risk* is the list of single CVaR's that enter in the mixture.\n",
    "\n",
    "> Note: As a check: if `coef` is normalized to `1`, then `risk = np.dot(coef, primary_risk)`\n",
    "\n",
    "The meaning of the *primary risk* varies with the risk measure adopted. *For more information see the documentation*.\n"
   ]
  },
  {
   "cell_type": "code",
   "execution_count": 8,
   "id": "contrary-vacation",
   "metadata": {},
   "outputs": [
    {
     "name": "stdout",
     "output_type": "stream",
     "text": [
      "Primary Risk Components: [0.08468756 0.07470409 0.06747553]\n"
     ]
    }
   ],
   "source": [
    "primary_risk = cr1.primary_risk_comp\n",
    "print(f\"Primary Risk Components: {primary_risk}\")"
   ]
  },
  {
   "cell_type": "markdown",
   "id": "micro-shelf",
   "metadata": {},
   "source": [
    "### Secondary risk values\n",
    "\n",
    "In this case the *secondary risk* is the list of VaR values associated with the CVaR's from *primary risk*.\n",
    "\n",
    "The meaning of the *secondary risk* varies with the risk measure adopted. *For more information see the documentation.*"
   ]
  },
  {
   "cell_type": "code",
   "execution_count": 9,
   "id": "bronze-trout",
   "metadata": {},
   "outputs": [
    {
     "name": "stdout",
     "output_type": "stream",
     "text": [
      "Secondary Risk Components: [0.07212908 0.05787229 0.04926858]\n"
     ]
    }
   ],
   "source": [
    "secondary_risk = cr1.secondary_risk_comp\n",
    "print(f\"Secondary Risk Components: {secondary_risk}\")"
   ]
  },
  {
   "cell_type": "markdown",
   "id": "configured-wallet",
   "metadata": {},
   "source": [
    "### Portfolio expected rate of returns\n",
    "\n",
    "> Note: It is a simple rate,in algebraic form, with horizon the rolling period of the portfolio. In this case a quarter."
   ]
  },
  {
   "cell_type": "code",
   "execution_count": 10,
   "id": "thirty-evolution",
   "metadata": {},
   "outputs": [
    {
     "name": "stdout",
     "output_type": "stream",
     "text": [
      "Rate of Returns: 0.04253232899793605\n"
     ]
    }
   ],
   "source": [
    "RR = cr1.RR\n",
    "print(f\"Rate of Returns: {RR}\")"
   ]
  },
  {
   "cell_type": "markdown",
   "id": "handy-offense",
   "metadata": {},
   "source": [
    "### Sharpe ratio value"
   ]
  },
  {
   "cell_type": "code",
   "execution_count": 11,
   "id": "numerous-highlight",
   "metadata": {},
   "outputs": [
    {
     "name": "stdout",
     "output_type": "stream",
     "text": [
      "Sharpe ratio: 0.5819\n"
     ]
    }
   ],
   "source": [
    "sharpe = cr1.sharpe\n",
    "print(f\"Sharpe ratio: {np.round(sharpe, 4)}\")"
   ]
  },
  {
   "cell_type": "markdown",
   "id": "natural-manchester",
   "metadata": {},
   "source": [
    "### View the portfolio frontiers \n",
    "\n",
    "- *blue* curve is the efficient frontier \n",
    "- *red* curve is the inefficient frontier\n",
    "- Most left *green diamond* - is the *minimum risk portfolio*\n",
    "- tangency point *(green diamond)* is the maximum Sharpe portfolio (also called *market* or *tangency* portfolio)\n",
    "- *blue squares* with stock symbol labels are the single asset portfolio (the label designates the asset).\n",
    "- *green x* with label \"1/N\" is the equal weights portfolio (also called *1/N* or *inverse-N* portfolio)\n",
    "- *blue dots* are random (inefficient) portfolios. They are present here to visualize the area of admissible portfolios.\n",
    "\n",
    "> Note: See the documentation for more details about available options."
   ]
  },
  {
   "cell_type": "code",
   "execution_count": 12,
   "id": "solar-fellowship",
   "metadata": {},
   "outputs": [
    {
     "data": {
      "image/png": "[encoded data removed]",
      "text/plain": [
       "<Figure size 432x288 with 1 Axes>"
      ]
     },
     "metadata": {
      "needs_background": "light"
     },
     "output_type": "display_data"
    }
   ],
   "source": [
    "opt ={'title': \"CVaR Port\", 'tangent': True}\n",
    "\n",
    "rft = cr1.viewFrontiers(musharpe=0, randomport=100, options=opt)"
   ]
  },
  {
   "cell_type": "markdown",
   "id": "visible-train",
   "metadata": {},
   "source": [
    "### View portfolio frontiers in a Sharle vs. rate of returns representations\n",
    "\n",
    "> Note: In order to avoid recomputations that may take time we had reused the graphical information from the previous call to\n",
    "`viewFrontiers`.\n",
    "\n",
    "The meaning of the graphical features are the same as in the previous fig."
   ]
  },
  {
   "cell_type": "code",
   "execution_count": 13,
   "id": "three-framework",
   "metadata": {},
   "outputs": [
    {
     "data": {
      "image/png": "[encoded data removed]",
      "text/plain": [
       "<Figure size 432x288 with 1 Axes>"
      ]
     },
     "metadata": {
      "needs_background": "light"
     },
     "output_type": "display_data"
    }
   ],
   "source": [
    "_ = cr1.viewFrontiers(data=rft, fig_type='Sharpe_RR')"
   ]
  }
 ],
 "metadata": {
  "kernelspec": {
   "display_name": "Python 3",
   "language": "python",
   "name": "python3"
  },
  "language_info": {
   "codemirror_mode": {
    "name": "ipython",
    "version": 3
   },
   "file_extension": ".py",
   "mimetype": "text/x-python",
   "name": "python",
   "nbconvert_exporter": "python",
   "pygments_lexer": "ipython3",
   "version": "3.8.8"
  }
 },
 "nbformat": 4,
 "nbformat_minor": 5
}
