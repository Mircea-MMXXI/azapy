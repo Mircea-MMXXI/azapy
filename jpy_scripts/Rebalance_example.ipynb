{
 "cells": [
  {
   "cell_type": "markdown",
   "id": "necessary-posting",
   "metadata": {},
   "source": [
    "# Rebalance - example\n",
    "\n",
    "This is the analytical procedure to rebalance a portfolio. \n",
    "The computations must be done after `Dfix` closing and before the rebalance execution in the `Droll` (usually next business day after `Dfix`).\n",
    "\n",
    "Let's assume that we already have decided to follow a portfolio strategy with the following parameters:\n",
    "1. mixture of CVaR's as a risk measure with the following parameters: \n",
    "    - confidence levels `alpha = [0.95, 0.90, 0.85]`\n",
    "    - mixture coefficients `coef = [0.2, 0.3, 0.5]`\n",
    "2. Sharpe optimization strategy (*i.e.* maximization of mCVaR-Sharpe ratio, `rtype='Sharpe'`)\n",
    "3. Quarterly rebalanced, `freq='Q'`\n",
    "4. With the length of the historical data used in the calibration of the weights of `hlength=3.25` years.\n",
    "\n",
    ">Note: The workflow is the same if other portfolio strategy was adopted. \n",
    "\n",
    "We start by importing the **azapy** package as well as other useful packages."
   ]
  },
  {
   "cell_type": "code",
   "execution_count": 1,
   "id": "positive-hazard",
   "metadata": {},
   "outputs": [],
   "source": [
    "import pandas as pd\n",
    "\n",
    "import sys\n",
    "sys.path.append(\"..\")\n",
    "import azapy as az"
   ]
  },
  {
   "cell_type": "markdown",
   "id": "seeing-knock",
   "metadata": {},
   "source": [
    "### Collect the relevant historical market data\n",
    "\n",
    "- `symb` is the list of stock symbols (portfolio components).\n",
    "- `sdate` and `edate` are the start and end dates of historical time-series.\n",
    "- `mktdir` is the name of the directory used as a buffer for market data collected from the data provider *alphavantage*.\n",
    "    \n",
    "> Note: if the flag `force=False` then a reading from `dir=mktdir` is attempted. If it fails then the data provider servers will be accessed. The new data will be saved to the `dir=mktdir`. *For more information see the azapy.readMkT function documentation.*\n",
    "\n",
    "> Hint: if you want to overwrite existing old data in directory `mktdir` then set `force=True`."
   ]
  },
  {
   "cell_type": "code",
   "execution_count": 2,
   "id": "answering-guarantee",
   "metadata": {},
   "outputs": [
    {
     "name": "stdout",
     "output_type": "stream",
     "text": [
      "Read GLD form ./MkTdata\n",
      "Read TLT form ./MkTdata\n",
      "Read XLV form ./MkTdata\n",
      "Read VGT form ./MkTdata\n",
      "Read PSJ form ./MkTdata\n"
     ]
    }
   ],
   "source": [
    "symb = ['GLD', 'TLT', 'XLV', 'VGT', 'PSJ']\n",
    "\n",
    "sdate = pd.to_datetime(\"2012-01-01\")\n",
    "edate = pd.to_datetime(\"today\")\n",
    "\n",
    "mktdir = \"./MkTdata\"\n",
    "\n",
    "mktdata = az.readMkT(symb, dstart = sdate, dend = edate, dir=mktdir, force=False) "
   ]
  },
  {
   "cell_type": "markdown",
   "id": "editorial-edwards",
   "metadata": {},
   "source": [
    "### Check the market data\n",
    "\n",
    "At this point it is a good idea to check the market data quality. \n",
    "The **azapy** function `summary_MktData` my come in handy. It returns:\n",
    "\n",
    "- `symbol` the symbols included in `mktdata`. These are the portfolio components. \n",
    "- `begin` is the beginning of the historical time-series for each symbol.\n",
    "- `end` is the end date of the historical time series (the most recent date).\n",
    "- `length` is history length in number of business days.\n",
    "- `na_total` is the total number of missing values, `nan`.\n",
    "- `na_b` is the total number of missing records at the beginning of the time-series (in number of business days).\n",
    "- `na_e` is the total number of missing records at the end of the time-series (in number of business days).\n",
    "- `cont` is the total number of missing records (at the beginning, end and in the middle of the time-series). \n",
    "\n",
    "We are looking for:\n",
    "- `begin` date to be prior `end` date minus `length`. In our case this condition is overwhelmingly satisfied.\n",
    "- `end` must be equal to `Dfix`. Therefore it is very important to retrieve the market data in the `Dfix` date after the market closing and after the data provider had updated their database. \n",
    "- ideally `na_total`, `na_b`, `na_e` and `cont` should be `0`. Missing data could be a serious problem since in general gaps should be filled before proceeding further. "
   ]
  },
  {
   "cell_type": "code",
   "execution_count": 3,
   "id": "lined-mountain",
   "metadata": {},
   "outputs": [
    {
     "data": {
      "text/html": [
       "<div>\n",
       "<style scoped>\n",
       "    .dataframe tbody tr th:only-of-type {\n",
       "        vertical-align: middle;\n",
       "    }\n",
       "\n",
       "    .dataframe tbody tr th {\n",
       "        vertical-align: top;\n",
       "    }\n",
       "\n",
       "    .dataframe thead th {\n",
       "        text-align: right;\n",
       "    }\n",
       "</style>\n",
       "<table border=\"1\" class=\"dataframe\">\n",
       "  <thead>\n",
       "    <tr style=\"text-align: right;\">\n",
       "      <th></th>\n",
       "      <th>symbol</th>\n",
       "      <th>begin</th>\n",
       "      <th>end</th>\n",
       "      <th>length</th>\n",
       "      <th>na_total</th>\n",
       "      <th>na_b</th>\n",
       "      <th>na_e</th>\n",
       "      <th>cont</th>\n",
       "    </tr>\n",
       "  </thead>\n",
       "  <tbody>\n",
       "    <tr>\n",
       "      <th>0</th>\n",
       "      <td>GLD</td>\n",
       "      <td>2012-01-03</td>\n",
       "      <td>2021-08-12</td>\n",
       "      <td>2419</td>\n",
       "      <td>0</td>\n",
       "      <td>0</td>\n",
       "      <td>0</td>\n",
       "      <td>0</td>\n",
       "    </tr>\n",
       "    <tr>\n",
       "      <th>1</th>\n",
       "      <td>PSJ</td>\n",
       "      <td>2012-01-03</td>\n",
       "      <td>2021-08-12</td>\n",
       "      <td>2419</td>\n",
       "      <td>0</td>\n",
       "      <td>0</td>\n",
       "      <td>0</td>\n",
       "      <td>0</td>\n",
       "    </tr>\n",
       "    <tr>\n",
       "      <th>2</th>\n",
       "      <td>TLT</td>\n",
       "      <td>2012-01-03</td>\n",
       "      <td>2021-08-12</td>\n",
       "      <td>2419</td>\n",
       "      <td>0</td>\n",
       "      <td>0</td>\n",
       "      <td>0</td>\n",
       "      <td>0</td>\n",
       "    </tr>\n",
       "    <tr>\n",
       "      <th>3</th>\n",
       "      <td>VGT</td>\n",
       "      <td>2012-01-03</td>\n",
       "      <td>2021-08-12</td>\n",
       "      <td>2419</td>\n",
       "      <td>0</td>\n",
       "      <td>0</td>\n",
       "      <td>0</td>\n",
       "      <td>0</td>\n",
       "    </tr>\n",
       "    <tr>\n",
       "      <th>4</th>\n",
       "      <td>XLV</td>\n",
       "      <td>2012-01-03</td>\n",
       "      <td>2021-08-12</td>\n",
       "      <td>2419</td>\n",
       "      <td>0</td>\n",
       "      <td>0</td>\n",
       "      <td>0</td>\n",
       "      <td>0</td>\n",
       "    </tr>\n",
       "  </tbody>\n",
       "</table>\n",
       "</div>"
      ],
      "text/plain": [
       "  symbol      begin        end  length  na_total  na_b  na_e  cont\n",
       "0    GLD 2012-01-03 2021-08-12    2419         0     0     0     0\n",
       "1    PSJ 2012-01-03 2021-08-12    2419         0     0     0     0\n",
       "2    TLT 2012-01-03 2021-08-12    2419         0     0     0     0\n",
       "3    VGT 2012-01-03 2021-08-12    2419         0     0     0     0\n",
       "4    XLV 2012-01-03 2021-08-12    2419         0     0     0     0"
      ]
     },
     "execution_count": 3,
     "metadata": {},
     "output_type": "execute_result"
    }
   ],
   "source": [
    "az.summary_MkTData(mktdata)"
   ]
  },
  {
   "cell_type": "markdown",
   "id": "fourth-irrigation",
   "metadata": {},
   "source": [
    "### Set the dispersion measure parameters \n",
    "\n",
    "For us they are the confidence levels and mixture coefficients mentioned before."
   ]
  },
  {
   "cell_type": "code",
   "execution_count": 4,
   "id": "southern-dance",
   "metadata": {},
   "outputs": [],
   "source": [
    "alpha = [0.95, 0.90, 0.85]\n",
    "coef = [0.2, 0.3, 0.5]"
   ]
  },
  {
   "cell_type": "markdown",
   "id": "sunrise-theology",
   "metadata": {},
   "source": [
    "### Set up the CVaRAnalyzer class\n",
    "\n",
    "In this class, `hlength` and `freq` default values are `3.25` and `'Q'`, respectively *(see the documentation)*. Here we set them explicitly only as an example."
   ]
  },
  {
   "cell_type": "code",
   "execution_count": 5,
   "id": "infrared-movement",
   "metadata": {},
   "outputs": [],
   "source": [
    "cr1 = az.CVaRAnalyzer(alpha, coef, mktdata, hlength=3.25, freq='Q')"
   ]
  },
  {
   "cell_type": "markdown",
   "id": "valued-information",
   "metadata": {},
   "source": [
    "### Set up the existing portfolio positions\n",
    "\n",
    "- `ns` is the existing number of shares per asset. These must be greater or equal to 0. Our portfolio strategies do not allowed for short positions. *See also the documentation* for `getPositions` method for additional information.\n",
    "- `cash` is the additional cash in dollars that we what to add to the total investment capital. A negative value means a capital reduction. In our example we retire a portion of the invested capital (*i.e.* 3000 dollars)."
   ]
  },
  {
   "cell_type": "code",
   "execution_count": 6,
   "id": "distinct-cargo",
   "metadata": {},
   "outputs": [],
   "source": [
    "ns = pd.Series([300, 40, 150, 50, 50], index=symb)\n",
    "cash = -3000"
   ]
  },
  {
   "cell_type": "markdown",
   "id": "chronic-teach",
   "metadata": {},
   "source": [
    "### Get the rebalancing positions\n",
    "\n",
    "Inputs:\n",
    "\n",
    "- `rtype`is the optimization strategy. In our case it is set to `'Sharpe'`.\n",
    "- `mu` is the risk free rate accessible to us. That is 0. *See also the documentation* for additional information.\n",
    "- `nshares` is the pd.Series containing the existing number of shares per asset.\n",
    "- `cash` is the additional amount of cash to be added to the capital.\n",
    "\n",
    "Returned information:\n",
    "- `old_nsh` column contains the exiting number of shares per asset as well as the additional cash. These are the input values.\n",
    "- `new_nsh` column contains the new numbers of shares per asset. The `cash` entry is the amount of cash that must be rolled to the next rebalancing event. It is generated by rounding the number of shares to integer values. Although its value is small, it could be positive or negative. It is the investor responsibility to compensate for a capital shortfall. \n",
    "- `diff_nsh` it is the actual number of shares that need to be sold and both in order to rebalance the portfolio. Under the `cash` entry is the actual amount of cash that is hold by the investor after the rebalance. In our case we have asked to retire 3000 dollars. However, after rebalance, the new position assumes a capital shortfall of roughly 47 dollars. Therefore we are left with only 2953 dollars.\n",
    "- `weights` column holds the portfolio weights in algebraic form. Under the `cash` entry we have the total value of the shares at the closing price in the `Dfix` date. This may be different than the actual value recorder at the transaction time in the `Droll` date (usually the next business day).\n",
    "- `price` the shares price at the `Difx` closing.\n",
    "\n",
    "> Note: The rebalancing positions are computed as of `Dfix` date. However, the execution price in the `Droll` date could be bigger or smaller than the closing price in the `Difx` date. Therefore, the invested capital could be different than the one presented in this report. It is the investor responsibility to cover for the potential capital shortfall. "
   ]
  },
  {
   "cell_type": "code",
   "execution_count": 7,
   "id": "congressional-basketball",
   "metadata": {},
   "outputs": [
    {
     "data": {
      "text/html": [
       "<div>\n",
       "<style scoped>\n",
       "    .dataframe tbody tr th:only-of-type {\n",
       "        vertical-align: middle;\n",
       "    }\n",
       "\n",
       "    .dataframe tbody tr th {\n",
       "        vertical-align: top;\n",
       "    }\n",
       "\n",
       "    .dataframe thead th {\n",
       "        text-align: right;\n",
       "    }\n",
       "</style>\n",
       "<table border=\"1\" class=\"dataframe\">\n",
       "  <thead>\n",
       "    <tr style=\"text-align: right;\">\n",
       "      <th></th>\n",
       "      <th>old_nsh</th>\n",
       "      <th>new_nsh</th>\n",
       "      <th>diff_nsh</th>\n",
       "      <th>weights</th>\n",
       "      <th>prices</th>\n",
       "    </tr>\n",
       "  </thead>\n",
       "  <tbody>\n",
       "    <tr>\n",
       "      <th>GLD</th>\n",
       "      <td>300</td>\n",
       "      <td>309.00</td>\n",
       "      <td>9.00</td>\n",
       "      <td>0.504169</td>\n",
       "      <td>164.04</td>\n",
       "    </tr>\n",
       "    <tr>\n",
       "      <th>PSJ</th>\n",
       "      <td>50</td>\n",
       "      <td>35.00</td>\n",
       "      <td>-15.00</td>\n",
       "      <td>0.054494</td>\n",
       "      <td>155.91</td>\n",
       "    </tr>\n",
       "    <tr>\n",
       "      <th>TLT</th>\n",
       "      <td>40</td>\n",
       "      <td>47.00</td>\n",
       "      <td>7.00</td>\n",
       "      <td>0.067807</td>\n",
       "      <td>146.24</td>\n",
       "    </tr>\n",
       "    <tr>\n",
       "      <th>VGT</th>\n",
       "      <td>50</td>\n",
       "      <td>44.00</td>\n",
       "      <td>-6.00</td>\n",
       "      <td>0.182096</td>\n",
       "      <td>414.20</td>\n",
       "    </tr>\n",
       "    <tr>\n",
       "      <th>XLV</th>\n",
       "      <td>150</td>\n",
       "      <td>145.00</td>\n",
       "      <td>-5.00</td>\n",
       "      <td>0.191433</td>\n",
       "      <td>132.86</td>\n",
       "    </tr>\n",
       "    <tr>\n",
       "      <th>cash</th>\n",
       "      <td>-3000</td>\n",
       "      <td>-11.89</td>\n",
       "      <td>2988.11</td>\n",
       "      <td>100507.990000</td>\n",
       "      <td>1.00</td>\n",
       "    </tr>\n",
       "  </tbody>\n",
       "</table>\n",
       "</div>"
      ],
      "text/plain": [
       "      old_nsh  new_nsh  diff_nsh        weights  prices\n",
       "GLD       300   309.00      9.00       0.504169  164.04\n",
       "PSJ        50    35.00    -15.00       0.054494  155.91\n",
       "TLT        40    47.00      7.00       0.067807  146.24\n",
       "VGT        50    44.00     -6.00       0.182096  414.20\n",
       "XLV       150   145.00     -5.00       0.191433  132.86\n",
       "cash    -3000   -11.89   2988.11  100507.990000    1.00"
      ]
     },
     "execution_count": 7,
     "metadata": {},
     "output_type": "execute_result"
    }
   ],
   "source": [
    "cr1.getPositions(mu=0., rtype='Sharpe', nshares=ns, cash=cash)"
   ]
  }
 ],
 "metadata": {
  "kernelspec": {
   "display_name": "Python 3 (ipykernel)",
   "language": "python",
   "name": "python3"
  },
  "language_info": {
   "codemirror_mode": {
    "name": "ipython",
    "version": 3
   },
   "file_extension": ".py",
   "mimetype": "text/x-python",
   "name": "python",
   "nbconvert_exporter": "python",
   "pygments_lexer": "ipython3",
   "version": "3.8.12"
  }
 },
 "nbformat": 4,
 "nbformat_minor": 5
}
